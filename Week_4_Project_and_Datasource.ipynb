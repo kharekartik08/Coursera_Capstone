{
 "cells": [
  {
   "cell_type": "markdown",
   "metadata": {},
   "source": [
    "# Week 4 Capstone Project"
   ]
  },
  {
   "cell_type": "markdown",
   "metadata": {},
   "source": [
    "---"
   ]
  },
  {
   "cell_type": "markdown",
   "metadata": {},
   "source": [
    "### Introduction"
   ]
  },
  {
   "cell_type": "markdown",
   "metadata": {},
   "source": [
    "---"
   ]
  },
  {
   "cell_type": "markdown",
   "metadata": {},
   "source": [
    "New York City's demographics show that it is a large and ethnically diverse metropolis. It is\n",
    "the largest city in the United States with a long history of international immigration. New York\n",
    "City was home to nearly 8.5 million people in 2014, accounting for over 40% of the population\n",
    "of New York State and a slightly lower percentage of the New York metropolitan area, home\n",
    "to approximately 23.6 million. Over the last decade the city has been growing faster than the\n",
    "region. The New York region continues to be by far the leading metropolitan gateway for legal\n",
    "immigrants admitted into the United States.\n",
    "\n",
    "New York City has also been a major point of entry for immigrants; the term \"melting pot\"\n",
    "was coined to describe densely populated immigrant neighbourhoods on the Lower East Side.\n",
    "As many as 800 languages are spoken in New York, making it the most linguistically diverse\n",
    "city in the world. English remains the most widely spoken language, although there are areas\n",
    "in the outer boroughs in which up to 25% of people speak English as an alternate language,\n",
    "and/or have limited or no English language fluency. English is least spoken in neighbourhoods\n",
    "such as Flushing, Sunset Park, and Corona.\n",
    "\n",
    "With its diverse culture, comes diverse food items. There are many restaurants in New York\n",
    "City, each belonging to different categories like Chinese, Indian, and French etc."
   ]
  },
  {
   "cell_type": "markdown",
   "metadata": {},
   "source": [
    "---"
   ]
  },
  {
   "cell_type": "markdown",
   "metadata": {},
   "source": [
    "### Problems"
   ]
  },
  {
   "cell_type": "markdown",
   "metadata": {},
   "source": [
    "---"
   ]
  },
  {
   "cell_type": "markdown",
   "metadata": {},
   "source": [
    "Problem:\n",
    "To find the answers to the following questions:\n",
    "\n",
    "1) List and visualize all major parts of New York City that has great Indian restaurants.\n",
    "\n",
    "2) what is best location in New York City for Indian Cuisine?\n",
    "\n",
    "3) which areas have potential Indian Restaurant Market?\n",
    "\n",
    "4) which all areas lack Indian Restaurants?\n",
    "\n",
    "5) which is the best place to stay if you prefer Indian Cuisine?"
   ]
  },
  {
   "cell_type": "markdown",
   "metadata": {},
   "source": [
    "---"
   ]
  },
  {
   "cell_type": "markdown",
   "metadata": {},
   "source": [
    "### Datasets"
   ]
  },
  {
   "cell_type": "markdown",
   "metadata": {},
   "source": [
    "---"
   ]
  },
  {
   "cell_type": "markdown",
   "metadata": {},
   "source": [
    "Data Section:\n",
    "New York City's demographics show that it is a large and ethnically diverse metropolis. With\n",
    "its diverse culture, comes diverse food items. There are many restaurants in New York City,\n",
    "each belonging to different categories like Chinese, Indian, and French etc.\n",
    "For this project we need the following data:\n",
    "\n",
    "* New York City data that contains list Boroughs, Neighbourhoods along with their latitude and longitude.\n",
    "Data source : https://cocl.us/new_york_dataset\n",
    "* Description: This data set contains the required information. And we will use this data set to explore various neighbourhoods of New York City\n",
    "\n",
    "**Indian restaurants in each neighbourhood of New York City.**\n",
    "* Data source : Foursquare API\n",
    "* Description: By using this API we will get all the venues in each neighbourhood. We can filter these venues to get only Indian restaurants.\n",
    "\n",
    "**GeoSpace data** \n",
    "* Data source : https://data.cityofnewyork.us/City-Government/BoroughBoundaries/tqmj-j8zm\n",
    "* Description: By using this geo space data we will get the New York Borough boundaries that will help us visualize choropleth map."
   ]
  },
  {
   "cell_type": "markdown",
   "metadata": {},
   "source": []
  }
 ],
 "metadata": {
  "kernelspec": {
   "display_name": "Python 3",
   "language": "python",
   "name": "python3"
  },
  "language_info": {
   "codemirror_mode": {
    "name": "ipython",
    "version": 3
   },
   "file_extension": ".py",
   "mimetype": "text/x-python",
   "name": "python",
   "nbconvert_exporter": "python",
   "pygments_lexer": "ipython3",
   "version": "3.7.7"
  }
 },
 "nbformat": 4,
 "nbformat_minor": 4
}
